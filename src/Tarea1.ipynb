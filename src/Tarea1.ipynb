{
  "nbformat": 4,
  "nbformat_minor": 0,
  "metadata": {
    "colab": {
      "provenance": []
    },
    "kernelspec": {
      "name": "python3",
      "display_name": "Python 3"
    },
    "language_info": {
      "name": "python"
    }
  },
  "cells": [
    {
      "cell_type": "markdown",
      "source": [
        "YUDITH DIANA CHALCO CEREZO\n",
        "\n",
        "Parte A. Linear Regression From Scratch"
      ],
      "metadata": {
        "id": "5PxafrQ3uOOn"
      }
    },
    {
      "cell_type": "code",
      "execution_count": 5,
      "metadata": {
        "id": "xmW7LXhbUc9s"
      },
      "outputs": [],
      "source": [
        "# Librerías básicas\n",
        "import numpy as np\n",
        "import pandas as pd\n",
        "import matplotlib.pyplot as plt\n",
        "from sklearn.datasets import fetch_california_housing\n",
        "from sklearn.model_selection import train_test_split\n",
        "from sklearn.preprocessing import StandardScaler\n",
        "from sklearn.metrics import mean_squared_error, r2_score"
      ]
    },
    {
      "cell_type": "markdown",
      "source": [
        "1. Conjunto de datos"
      ],
      "metadata": {
        "id": "w-SX8WPZX0_e"
      }
    },
    {
      "cell_type": "code",
      "source": [
        "# 1. Dataset: California Housing\n",
        "housing = fetch_california_housing(as_frame=True)\n",
        "X = housing.data\n",
        "y = housing.target\n",
        "\n",
        "print(\"Variables predictoras:\", list(X.columns))\n",
        "print(\"Variable objetivo: MedHouseVal\")"
      ],
      "metadata": {
        "colab": {
          "base_uri": "https://localhost:8080/"
        },
        "id": "NCKhe5N_X-T9",
        "outputId": "1adc53dc-bace-4f93-88d4-77b4a85396a3"
      },
      "execution_count": 6,
      "outputs": [
        {
          "output_type": "stream",
          "name": "stdout",
          "text": [
            "Variables predictoras: ['MedInc', 'HouseAge', 'AveRooms', 'AveBedrms', 'Population', 'AveOccup', 'Latitude', 'Longitude']\n",
            "Variable objetivo: MedHouseVal\n"
          ]
        }
      ]
    },
    {
      "cell_type": "markdown",
      "source": [
        "1.1 Crear un conjunto de prueba de retención"
      ],
      "metadata": {
        "id": "Xl4owNrtYD2l"
      }
    },
    {
      "cell_type": "code",
      "source": [
        "# Dividimos en train y test\n",
        "X_train, X_test, y_train, y_test = train_test_split(\n",
        "    X, y, test_size=0.2, random_state=42\n",
        ")\n",
        "\n",
        "print(\"Tamaño train:\", X_train.shape)\n",
        "print(\"Tamaño test:\", X_test.shape)"
      ],
      "metadata": {
        "colab": {
          "base_uri": "https://localhost:8080/"
        },
        "id": "pNJ_d3VSYOEE",
        "outputId": "52b4adec-0a01-465b-fa47-c6851018df96"
      },
      "execution_count": 17,
      "outputs": [
        {
          "output_type": "stream",
          "name": "stdout",
          "text": [
            "Tamaño train: (16512, 8)\n",
            "Tamaño test: (4128, 8)\n"
          ]
        }
      ]
    },
    {
      "cell_type": "markdown",
      "source": [
        "1.2 Estandarizar características (media=0, varianza=1)"
      ],
      "metadata": {
        "id": "nrWG29VRYRzE"
      }
    },
    {
      "cell_type": "code",
      "source": [
        "scaler = StandardScaler()\n",
        "X_train_scaled = scaler.fit_transform(X_train)\n",
        "X_test_scaled = scaler.transform(X_test)\n",
        "\n",
        "print(\"Media train (aprox 0):\", X_train_scaled.mean())\n",
        "print(\"Varianza train (aprox 1):\", X_train_scaled.var())"
      ],
      "metadata": {
        "colab": {
          "base_uri": "https://localhost:8080/"
        },
        "id": "TK-VQ3ipYV1y",
        "outputId": "6ea089cc-e0dc-4a9b-dd5d-02b642d0583a"
      },
      "execution_count": 8,
      "outputs": [
        {
          "output_type": "stream",
          "name": "stdout",
          "text": [
            "Media train (aprox 0): 1.7799069711650403e-16\n",
            "Varianza train (aprox 1): 1.0\n"
          ]
        }
      ]
    },
    {
      "cell_type": "markdown",
      "source": [
        "1.3 Variable a predecir"
      ],
      "metadata": {
        "id": "1kuP5KQ3YXu7"
      }
    },
    {
      "cell_type": "code",
      "source": [
        "print(\"La variable a predecir es MedHouseVal (valor medio de la casa)\")\n",
        "print(\"Primeros 10 valores de y:\")\n",
        "print(y.head(10).reset_index(drop=True))"
      ],
      "metadata": {
        "colab": {
          "base_uri": "https://localhost:8080/"
        },
        "id": "xl48457pYb9u",
        "outputId": "cbe6f851-bc0a-4356-9faa-860cb10d5ba2"
      },
      "execution_count": 21,
      "outputs": [
        {
          "output_type": "stream",
          "name": "stdout",
          "text": [
            "La variable a predecir es MedHouseVal (valor medio de la casa)\n",
            "Primeros 10 valores de y:\n",
            "0    4.526\n",
            "1    3.585\n",
            "2    3.521\n",
            "3    3.413\n",
            "4    3.422\n",
            "5    2.697\n",
            "6    2.992\n",
            "7    2.414\n",
            "8    2.267\n",
            "9    2.611\n",
            "Name: MedHouseVal, dtype: float64\n"
          ]
        }
      ]
    },
    {
      "cell_type": "markdown",
      "source": [
        "2. Closed-form OLS"
      ],
      "metadata": {
        "id": "C5zHivssYfX2"
      }
    },
    {
      "cell_type": "code",
      "source": [
        "# Agregamos columna de 1s para el intercepto\n",
        "X_train_bias = np.c_[np.ones((X_train_scaled.shape[0], 1)), X_train_scaled]\n",
        "X_test_bias = np.c_[np.ones((X_test_scaled.shape[0], 1)), X_test_scaled]\n",
        "\n",
        "# Fórmula: β = (X^T X)^(-1) X^T y\n",
        "beta_hat = np.linalg.inv(X_train_bias.T @ X_train_bias) @ (X_train_bias.T @ y_train)\n",
        "\n",
        "# Intercepto y coeficientes\n",
        "intercept = beta_hat[0]\n",
        "coefficients = beta_hat[1:]"
      ],
      "metadata": {
        "id": "PPIZX5_MYi7-"
      },
      "execution_count": 26,
      "outputs": []
    },
    {
      "cell_type": "markdown",
      "source": [
        "2.1 Reportar coeficientes e intercepto"
      ],
      "metadata": {
        "id": "mpUVh91IYk2k"
      }
    },
    {
      "cell_type": "code",
      "source": [
        "print(\"Intercepto:\", intercept)\n",
        "print(\"Coeficientes:\", coefficients)"
      ],
      "metadata": {
        "colab": {
          "base_uri": "https://localhost:8080/"
        },
        "id": "sGUOI3IEYnl1",
        "outputId": "340bcd04-b3e3-4bb5-b745-bc635146b319"
      },
      "execution_count": 27,
      "outputs": [
        {
          "output_type": "stream",
          "name": "stdout",
          "text": [
            "Intercepto: 2.071946937378877\n",
            "Coeficientes: [ 0.85438303  0.12254624 -0.29441013  0.33925949 -0.00230772 -0.0408291\n",
            " -0.89692888 -0.86984178]\n"
          ]
        }
      ]
    },
    {
      "cell_type": "markdown",
      "source": [
        "2.2 Predicciones y métricas"
      ],
      "metadata": {
        "id": "oTwJRx1tYpgy"
      }
    },
    {
      "cell_type": "code",
      "source": [
        "# Predicciones en test\n",
        "y_pred_ols = X_test_bias @ beta_hat\n",
        "\n",
        "# Métricas\n",
        "mse_ols = mean_squared_error(y_test, y_pred_ols)\n",
        "r2_ols = r2_score(y_test, y_pred_ols)\n",
        "print(\"MSE (OLS):\", mse_ols)\n",
        "print(\"R2 (OLS):\", r2_ols)\n",
        "\n",
        "# Gráfico\n",
        "plt.scatter(y_test, y_pred_ols, alpha=0.5)\n",
        "plt.xlabel(\"Valores reales (MedHouseVal)\")\n",
        "plt.ylabel(\"Predicciones (OLS)\")\n",
        "plt.title(\"Closed-form OLS: Real vs Predicho\")\n",
        "plt.plot([y_test.min(), y_test.max()],\n",
        "         [y_test.min(), y_test.max()], 'r--')\n",
        "plt.show()"
      ],
      "metadata": {
        "colab": {
          "base_uri": "https://localhost:8080/",
          "height": 507
        },
        "id": "GYsOcd-LYs6Z",
        "outputId": "058e12f1-f74d-461f-e2ba-6dd6c1a95e7d"
      },
      "execution_count": 12,
      "outputs": [
        {
          "output_type": "stream",
          "name": "stdout",
          "text": [
            "MSE (OLS): 0.5558915986952442\n",
            "R2 (OLS): 0.575787706032451\n"
          ]
        },
        {
          "output_type": "display_data",
          "data": {
            "text/plain": [
              "<Figure size 640x480 with 1 Axes>"
            ],
            "image/png": "[encoded data removed]"
          },
          "metadata": {}
        }
      ]
    },
    {
      "cell_type": "markdown",
      "source": [
        "3. Gradiente Descendente"
      ],
      "metadata": {
        "id": "0tSVBemoYxKq"
      }
    },
    {
      "cell_type": "code",
      "source": [
        "# Función de gradiente descendente\n",
        "def gradient_descent(X, y, lr=0.01, n_iter=1000):\n",
        "    m, n = X.shape\n",
        "    theta = np.zeros(n)   # inicializamos parámetros\n",
        "    costs = []\n",
        "\n",
        "    for i in range(n_iter):\n",
        "        gradients = -2/m * X.T @ (y - X @ theta)\n",
        "        theta -= lr * gradients\n",
        "        cost = mean_squared_error(y, X @ theta)\n",
        "        costs.append(cost)\n",
        "    return theta, costs\n",
        "\n",
        "# Ejecutamos con dos tasas de aprendizaje\n",
        "thetas_lr01, costs_lr01 = gradient_descent(X_train_bias, y_train, lr=0.01, n_iter=500)\n",
        "thetas_lr001, costs_lr001 = gradient_descent(X_train_bias, y_train, lr=0.001, n_iter=500)"
      ],
      "metadata": {
        "id": "5B7dQzxpYzVF"
      },
      "execution_count": 13,
      "outputs": []
    },
    {
      "cell_type": "markdown",
      "source": [
        "3.1 Predicciones y métricas (GD con lr=0.01)"
      ],
      "metadata": {
        "id": "ldCjSgTWY3DL"
      }
    },
    {
      "cell_type": "code",
      "source": [
        "y_pred_gd = X_test_bias @ thetas_lr01\n",
        "\n",
        "mse_gd = mean_squared_error(y_test, y_pred_gd)\n",
        "r2_gd = r2_score(y_test, y_pred_gd)\n",
        "print(\"MSE (Gradient Descent, lr=0.01):\", mse_gd)\n",
        "print(\"R2 (Gradient Descent, lr=0.01):\", r2_gd)"
      ],
      "metadata": {
        "colab": {
          "base_uri": "https://localhost:8080/"
        },
        "id": "YfIZHBapY598",
        "outputId": "7b79e053-dcd5-4985-c5fe-185d389238b9"
      },
      "execution_count": 14,
      "outputs": [
        {
          "output_type": "stream",
          "name": "stdout",
          "text": [
            "MSE (Gradient Descent, lr=0.01): 0.5671731422098358\n",
            "R2 (Gradient Descent, lr=0.01): 0.5671785285146533\n"
          ]
        }
      ]
    },
    {
      "cell_type": "markdown",
      "source": [
        "3.2 Comparar OLS vs GD"
      ],
      "metadata": {
        "id": "ZBE9vYqgY6_9"
      }
    },
    {
      "cell_type": "code",
      "source": [
        "print(\"Comparación OLS vs GD:\")\n",
        "print(f\"OLS → MSE={mse_ols:.4f}, R2={r2_ols:.4f}\")\n",
        "print(f\"GD  → MSE={mse_gd:.4f}, R2={r2_gd:.4f}\")"
      ],
      "metadata": {
        "colab": {
          "base_uri": "https://localhost:8080/"
        },
        "id": "OL9aDqskY-aM",
        "outputId": "467246b2-5254-4ecf-befe-eb7f660a595b"
      },
      "execution_count": 15,
      "outputs": [
        {
          "output_type": "stream",
          "name": "stdout",
          "text": [
            "Comparación OLS vs GD:\n",
            "OLS → MSE=0.5559, R2=0.5758\n",
            "GD  → MSE=0.5672, R2=0.5672\n"
          ]
        }
      ]
    },
    {
      "cell_type": "markdown",
      "source": [
        "3.3 Curva de costo vs iteraciones"
      ],
      "metadata": {
        "id": "y0g5LPp-ZAtO"
      }
    },
    {
      "cell_type": "code",
      "source": [
        "plt.plot(costs_lr01, label=\"lr=0.01\")\n",
        "plt.plot(costs_lr001, label=\"lr=0.001\")\n",
        "plt.xlabel(\"Iteraciones\")\n",
        "plt.ylabel(\"Costo (MSE)\")\n",
        "plt.title(\"Curvas de convergencia - Gradient Descent\")\n",
        "plt.legend()\n",
        "plt.show()"
      ],
      "metadata": {
        "colab": {
          "base_uri": "https://localhost:8080/",
          "height": 472
        },
        "id": "wd74zRmDZC5I",
        "outputId": "b6ed7b50-3fe2-47ef-b347-719dc9373030"
      },
      "execution_count": 16,
      "outputs": [
        {
          "output_type": "display_data",
          "data": {
            "text/plain": [
              "<Figure size 640x480 with 1 Axes>"
            ],
            "image/png": "[encoded data removed]"
          },
          "metadata": {}
        }
      ]
    },
    {
      "cell_type": "markdown",
      "source": [
        "Parte B. Scikit-learn Linear Models"
      ],
      "metadata": {
        "id": "tOsjh8nbswBn"
      }
    },
    {
      "cell_type": "code",
      "source": [
        "# 4. Baseline\n",
        "\n",
        "from sklearn.linear_model import LinearRegression\n",
        "\n",
        "# Crear y entrenar el modelo\n",
        "lin_reg = LinearRegression()\n",
        "lin_reg.fit(X_train_scaled, y_train)\n",
        "\n",
        "# Coeficientes e intercepto\n",
        "print(\"Intercepto (sklearn):\", lin_reg.intercept_)\n",
        "print(\"Coeficientes (sklearn):\", lin_reg.coef_)\n",
        "\n",
        "# Predicciones en el conjunto de test\n",
        "y_pred_sklearn = lin_reg.predict(X_test_scaled)\n",
        "\n",
        "# Métricas\n",
        "mse_sklearn = mean_squared_error(y_test, y_pred_sklearn)\n",
        "r2_sklearn = r2_score(y_test, y_pred_sklearn)\n",
        "\n",
        "print(\"\\nMSE (sklearn):\", mse_sklearn)\n",
        "print(\"R2 (sklearn):\", r2_sklearn)\n"
      ],
      "metadata": {
        "colab": {
          "base_uri": "https://localhost:8080/"
        },
        "id": "BvilV2pIswrg",
        "outputId": "4d66b875-780c-4516-a426-e09580f46527"
      },
      "execution_count": 28,
      "outputs": [
        {
          "output_type": "stream",
          "name": "stdout",
          "text": [
            "Intercepto (sklearn): 2.0719469373788777\n",
            "Coeficientes (sklearn): [ 0.85438303  0.12254624 -0.29441013  0.33925949 -0.00230772 -0.0408291\n",
            " -0.89692888 -0.86984178]\n",
            "\n",
            "MSE (sklearn): 0.5558915986952442\n",
            "R2 (sklearn): 0.575787706032451\n"
          ]
        }
      ]
    },
    {
      "cell_type": "markdown",
      "source": [
        "Parte C. Regularization and Hyperparameter Choice"
      ],
      "metadata": {
        "id": "RZma7bao3E66"
      }
    },
    {
      "cell_type": "code",
      "source": [
        "from sklearn.linear_model import Ridge, Lasso, RidgeCV, LassoCV\n",
        "from sklearn.model_selection import KFold, cross_val_score\n",
        "from sklearn.preprocessing import PolynomialFeatures"
      ],
      "metadata": {
        "id": "CBgixchQ3IuF"
      },
      "execution_count": 33,
      "outputs": []
    },
    {
      "cell_type": "markdown",
      "source": [
        "5. Ridge y Lasso"
      ],
      "metadata": {
        "id": "E9tx7Qzp3KhV"
      }
    },
    {
      "cell_type": "code",
      "source": [
        "import numpy as np\n",
        "\n",
        "# Valores de lambda (α en sklearn) entre 1e-3 y 1e2 (escala logarítmica)\n",
        "alphas = np.logspace(-3, 2, 50)\n",
        "\n",
        "ridge_coefs = []\n",
        "lasso_coefs = []\n",
        "\n",
        "for a in alphas:\n",
        "    ridge = Ridge(alpha=a, fit_intercept=True)\n",
        "    ridge.fit(X_train_scaled, y_train)\n",
        "    ridge_coefs.append(ridge.coef_)\n",
        "\n",
        "    lasso = Lasso(alpha=a, max_iter=5000)\n",
        "    lasso.fit(X_train_scaled, y_train)\n",
        "    lasso_coefs.append(lasso.coef_)\n",
        "\n",
        "ridge_coefs = np.array(ridge_coefs)\n",
        "lasso_coefs = np.array(lasso_coefs)\n",
        "\n",
        "# Graficar trayectorias de coeficientes (Regularization Paths)\n",
        "plt.figure(figsize=(14,6))\n",
        "\n",
        "# Ridge\n",
        "plt.subplot(1,2,1)\n",
        "plt.plot(alphas, ridge_coefs)\n",
        "plt.xscale(\"log\")\n",
        "plt.title(\"Ridge - Trayectoria de coeficientes\")\n",
        "plt.xlabel(\"λ (alpha)\")\n",
        "plt.ylabel(\"Magnitud coeficientes\")\n",
        "\n",
        "# Lasso\n",
        "plt.subplot(1,2,2)\n",
        "plt.plot(alphas, lasso_coefs)\n",
        "plt.xscale(\"log\")\n",
        "plt.title(\"Lasso - Trayectoria de coeficientes\")\n",
        "plt.xlabel(\"λ (alpha)\")\n",
        "plt.ylabel(\"Magnitud coeficientes\")\n",
        "\n",
        "plt.show()"
      ],
      "metadata": {
        "colab": {
          "base_uri": "https://localhost:8080/",
          "height": 328
        },
        "id": "fqeO1oIv3NzL",
        "outputId": "63fbd682-232d-4e03-921b-963d5020e87b"
      },
      "execution_count": 30,
      "outputs": [
        {
          "output_type": "display_data",
          "data": {
            "text/plain": [
              "<Figure size 1400x600 with 2 Axes>"
            ],
            "image/png": "[encoded data removed]"
          },
          "metadata": {}
        }
      ]
    },
    {
      "cell_type": "markdown",
      "source": [
        "INTERPRETACIÓN:\n",
        "\n",
        "En Ridge, al aumentar λ los coeficientes se reducen en magnitud pero nunca llegan exactamente a cero. Entonces se puede decir que Ridge penaliza los coeficientes grandes suavemente (regularización L2), lo que suaviza la multicolinealidad pero mantiene todas las variables en el modelo.\n",
        "\n",
        "En Lasso, a medida que crece λ varios coeficientes se vuelven exactamente 0. Entonces Lasso usa penalización L1, que además de reducir magnitudes puede eliminar variables irrelevantes.\n",
        "\n",
        "Por lo tanto implica que Lasso puede ser útil como método de selección automática de variables, mientras que Ridge es mejor cuando todas las variables son importantes pero con diferente peso."
      ],
      "metadata": {
        "id": "J2rzjgSA5AMw"
      }
    },
    {
      "cell_type": "markdown",
      "source": [
        "6. k-Fold Cross-Validation"
      ],
      "metadata": {
        "id": "5TbfCIOA3PbI"
      }
    },
    {
      "cell_type": "code",
      "source": [
        "# K-Fold con 5 particiones\n",
        "kf = KFold(n_splits=5, shuffle=True, random_state=42)\n",
        "\n",
        "# RidgeCV y LassoCV hacen CV automático\n",
        "ridge_cv = RidgeCV(alphas=alphas, cv=kf)\n",
        "ridge_cv.fit(X_train_scaled, y_train)\n",
        "\n",
        "lasso_cv = LassoCV(alphas=alphas, cv=kf, max_iter=5000, random_state=42)\n",
        "lasso_cv.fit(X_train_scaled, y_train)\n",
        "\n",
        "print(\"Mejor α (Ridge):\", ridge_cv.alpha_)\n",
        "print(\"Mejor α (Lasso):\", lasso_cv.alpha_)\n",
        "\n",
        "# Evaluar en test\n",
        "y_pred_ridge = ridge_cv.predict(X_test_scaled)\n",
        "y_pred_lasso = lasso_cv.predict(X_test_scaled)\n",
        "\n",
        "print(\"Ridge → MSE:\", mean_squared_error(y_test, y_pred_ridge),\n",
        "      \"R2:\", r2_score(y_test, y_pred_ridge))\n",
        "\n",
        "print(\"Lasso → MSE:\", mean_squared_error(y_test, y_pred_lasso),\n",
        "      \"R2:\", r2_score(y_test, y_pred_lasso))\n"
      ],
      "metadata": {
        "colab": {
          "base_uri": "https://localhost:8080/"
        },
        "id": "lHv6rs7X3SS6",
        "outputId": "03a1a8ba-f0cd-479b-cf4d-4eba15baedc8"
      },
      "execution_count": 31,
      "outputs": [
        {
          "output_type": "stream",
          "name": "stdout",
          "text": [
            "Mejor α (Ridge): 3.7275937203149416\n",
            "Mejor α (Lasso): 0.001\n",
            "Ridge → MSE: 0.5557558678185837 R2: 0.5758912850516077\n",
            "Lasso → MSE: 0.5544913600832686 R2: 0.5768562568705682\n"
          ]
        }
      ]
    },
    {
      "cell_type": "markdown",
      "source": [
        "INTERPRETACIÓN:\n",
        "\n",
        "Con RidgeCV y LassoCV encontramos:\n",
        "\n",
        "Mejor λ para Ridge ≈ 3.7\n",
        "\n",
        "Mejor λ para Lasso ≈ 0.001\n",
        "\n",
        "Los errores de prueba (MSE) y R² de ambos modelos fueron muy similares (~0.556 y ~0.576), lo que confirma que ambos regularizadores funcionan bien en este dataset.\n",
        "\n",
        "La validación cruzada asegura que no estemos sobreajustando y nos da confianza en la elección de hiperparámetros."
      ],
      "metadata": {
        "id": "6iE8wuMr5O_P"
      }
    },
    {
      "cell_type": "markdown",
      "source": [
        "7. Feature Engineering and Multicollinearity"
      ],
      "metadata": {
        "id": "NoCPvZbc3Twx"
      }
    },
    {
      "cell_type": "code",
      "source": [
        "# Generar características polinomiales de grado 2\n",
        "poly = PolynomialFeatures(degree=2, include_bias=False)\n",
        "X_train_poly = poly.fit_transform(X_train_scaled)\n",
        "X_test_poly = poly.transform(X_test_scaled)\n",
        "\n",
        "print(\"Dimensión original:\", X_train_scaled.shape[1])\n",
        "print(\"Dimensión ampliada con polinomios:\", X_train_poly.shape[1])\n",
        "\n",
        "# Re-entrenar Ridge y Lasso con features polinomiales\n",
        "ridge_poly = RidgeCV(alphas=alphas, cv=kf)\n",
        "ridge_poly.fit(X_train_poly, y_train)\n",
        "\n",
        "lasso_poly = LassoCV(alphas=alphas, cv=kf, max_iter=5000, random_state=42)\n",
        "lasso_poly.fit(X_train_poly, y_train)\n",
        "\n",
        "# Evaluación en test\n",
        "y_pred_ridge_poly = ridge_poly.predict(X_test_poly)\n",
        "y_pred_lasso_poly = lasso_poly.predict(X_test_poly)\n",
        "\n",
        "print(\"Ridge (Poly) → MSE:\", mean_squared_error(y_test, y_pred_ridge_poly),\n",
        "      \"R2:\", r2_score(y_test, y_pred_ridge_poly))\n",
        "\n",
        "print(\"Lasso (Poly) → MSE:\", mean_squared_error(y_test, y_pred_lasso_poly),\n",
        "      \"R2:\", r2_score(y_test, y_pred_lasso_poly))\n"
      ],
      "metadata": {
        "colab": {
          "base_uri": "https://localhost:8080/"
        },
        "id": "sxBiqkOv3WnH",
        "outputId": "6ec2bd20-bf98-41cd-e856-6a844a77b966"
      },
      "execution_count": 32,
      "outputs": [
        {
          "output_type": "stream",
          "name": "stdout",
          "text": [
            "Dimensión original: 8\n",
            "Dimensión ampliada con polinomios: 44\n"
          ]
        },
        {
          "output_type": "stream",
          "name": "stderr",
          "text": [
            "/usr/local/lib/python3.12/dist-packages/sklearn/linear_model/_coordinate_descent.py:681: ConvergenceWarning: Objective did not converge. You might want to increase the number of iterations. Duality gap: 2.6002229432178865, tolerance: 1.7513111416883114\n",
            "  model = cd_fast.enet_coordinate_descent_gram(\n",
            "/usr/local/lib/python3.12/dist-packages/sklearn/linear_model/_coordinate_descent.py:681: ConvergenceWarning: Objective did not converge. You might want to increase the number of iterations. Duality gap: 2.447933693685627, tolerance: 1.7513111416883114\n",
            "  model = cd_fast.enet_coordinate_descent_gram(\n",
            "/usr/local/lib/python3.12/dist-packages/sklearn/linear_model/_coordinate_descent.py:681: ConvergenceWarning: Objective did not converge. You might want to increase the number of iterations. Duality gap: 2.4838951492729393, tolerance: 1.7513111416883114\n",
            "  model = cd_fast.enet_coordinate_descent_gram(\n",
            "/usr/local/lib/python3.12/dist-packages/sklearn/linear_model/_coordinate_descent.py:681: ConvergenceWarning: Objective did not converge. You might want to increase the number of iterations. Duality gap: 3.630608336964542, tolerance: 1.7513111416883114\n",
            "  model = cd_fast.enet_coordinate_descent_gram(\n",
            "/usr/local/lib/python3.12/dist-packages/sklearn/linear_model/_coordinate_descent.py:681: ConvergenceWarning: Objective did not converge. You might want to increase the number of iterations. Duality gap: 4.233012134225646, tolerance: 1.7513111416883114\n",
            "  model = cd_fast.enet_coordinate_descent_gram(\n",
            "/usr/local/lib/python3.12/dist-packages/sklearn/linear_model/_coordinate_descent.py:681: ConvergenceWarning: Objective did not converge. You might want to increase the number of iterations. Duality gap: 3.5325633519032635, tolerance: 1.7513111416883114\n",
            "  model = cd_fast.enet_coordinate_descent_gram(\n",
            "/usr/local/lib/python3.12/dist-packages/sklearn/linear_model/_coordinate_descent.py:681: ConvergenceWarning: Objective did not converge. You might want to increase the number of iterations. Duality gap: 11.672197953308569, tolerance: 1.7685190502856385\n",
            "  model = cd_fast.enet_coordinate_descent_gram(\n",
            "/usr/local/lib/python3.12/dist-packages/sklearn/linear_model/_coordinate_descent.py:681: ConvergenceWarning: Objective did not converge. You might want to increase the number of iterations. Duality gap: 45.17165227496298, tolerance: 1.7685190502856385\n",
            "  model = cd_fast.enet_coordinate_descent_gram(\n",
            "/usr/local/lib/python3.12/dist-packages/sklearn/linear_model/_coordinate_descent.py:681: ConvergenceWarning: Objective did not converge. You might want to increase the number of iterations. Duality gap: 3.832227573160708, tolerance: 1.7685190502856385\n",
            "  model = cd_fast.enet_coordinate_descent_gram(\n",
            "/usr/local/lib/python3.12/dist-packages/sklearn/linear_model/_coordinate_descent.py:681: ConvergenceWarning: Objective did not converge. You might want to increase the number of iterations. Duality gap: 138.49803532651003, tolerance: 1.7685190502856385\n",
            "  model = cd_fast.enet_coordinate_descent_gram(\n",
            "/usr/local/lib/python3.12/dist-packages/sklearn/linear_model/_coordinate_descent.py:681: ConvergenceWarning: Objective did not converge. You might want to increase the number of iterations. Duality gap: 252.74701700439527, tolerance: 1.7685190502856385\n",
            "  model = cd_fast.enet_coordinate_descent_gram(\n",
            "/usr/local/lib/python3.12/dist-packages/sklearn/linear_model/_coordinate_descent.py:681: ConvergenceWarning: Objective did not converge. You might want to increase the number of iterations. Duality gap: 383.15499446920785, tolerance: 1.7685190502856385\n",
            "  model = cd_fast.enet_coordinate_descent_gram(\n",
            "/usr/local/lib/python3.12/dist-packages/sklearn/linear_model/_coordinate_descent.py:681: ConvergenceWarning: Objective did not converge. You might want to increase the number of iterations. Duality gap: 497.4762544494761, tolerance: 1.7685190502856385\n",
            "  model = cd_fast.enet_coordinate_descent_gram(\n",
            "/usr/local/lib/python3.12/dist-packages/sklearn/linear_model/_coordinate_descent.py:681: ConvergenceWarning: Objective did not converge. You might want to increase the number of iterations. Duality gap: 575.2917960420464, tolerance: 1.7685190502856385\n",
            "  model = cd_fast.enet_coordinate_descent_gram(\n",
            "/usr/local/lib/python3.12/dist-packages/sklearn/linear_model/_coordinate_descent.py:681: ConvergenceWarning: Objective did not converge. You might want to increase the number of iterations. Duality gap: 46.69720562152361, tolerance: 1.7669373150516772\n",
            "  model = cd_fast.enet_coordinate_descent_gram(\n",
            "/usr/local/lib/python3.12/dist-packages/sklearn/linear_model/_coordinate_descent.py:681: ConvergenceWarning: Objective did not converge. You might want to increase the number of iterations. Duality gap: 9.999021101411927, tolerance: 1.7669373150516772\n",
            "  model = cd_fast.enet_coordinate_descent_gram(\n",
            "/usr/local/lib/python3.12/dist-packages/sklearn/linear_model/_coordinate_descent.py:681: ConvergenceWarning: Objective did not converge. You might want to increase the number of iterations. Duality gap: 129.680568763647, tolerance: 1.7669373150516772\n",
            "  model = cd_fast.enet_coordinate_descent_gram(\n",
            "/usr/local/lib/python3.12/dist-packages/sklearn/linear_model/_coordinate_descent.py:681: ConvergenceWarning: Objective did not converge. You might want to increase the number of iterations. Duality gap: 254.03650460296103, tolerance: 1.7669373150516772\n",
            "  model = cd_fast.enet_coordinate_descent_gram(\n",
            "/usr/local/lib/python3.12/dist-packages/sklearn/linear_model/_coordinate_descent.py:681: ConvergenceWarning: Objective did not converge. You might want to increase the number of iterations. Duality gap: 452.5030046918919, tolerance: 1.7669373150516772\n",
            "  model = cd_fast.enet_coordinate_descent_gram(\n",
            "/usr/local/lib/python3.12/dist-packages/sklearn/linear_model/_coordinate_descent.py:681: ConvergenceWarning: Objective did not converge. You might want to increase the number of iterations. Duality gap: 627.0962648488353, tolerance: 1.7669373150516772\n",
            "  model = cd_fast.enet_coordinate_descent_gram(\n",
            "/usr/local/lib/python3.12/dist-packages/sklearn/linear_model/_coordinate_descent.py:681: ConvergenceWarning: Objective did not converge. You might want to increase the number of iterations. Duality gap: 806.72750526652, tolerance: 1.7669373150516772\n",
            "  model = cd_fast.enet_coordinate_descent_gram(\n",
            "/usr/local/lib/python3.12/dist-packages/sklearn/linear_model/_coordinate_descent.py:681: ConvergenceWarning: Objective did not converge. You might want to increase the number of iterations. Duality gap: 13.624123273093574, tolerance: 1.7622842702391401\n",
            "  model = cd_fast.enet_coordinate_descent_gram(\n",
            "/usr/local/lib/python3.12/dist-packages/sklearn/linear_model/_coordinate_descent.py:681: ConvergenceWarning: Objective did not converge. You might want to increase the number of iterations. Duality gap: 33.470216938015255, tolerance: 1.7622842702391401\n",
            "  model = cd_fast.enet_coordinate_descent_gram(\n",
            "/usr/local/lib/python3.12/dist-packages/sklearn/linear_model/_coordinate_descent.py:681: ConvergenceWarning: Objective did not converge. You might want to increase the number of iterations. Duality gap: 21.832768349217076, tolerance: 1.7622842702391401\n",
            "  model = cd_fast.enet_coordinate_descent_gram(\n",
            "/usr/local/lib/python3.12/dist-packages/sklearn/linear_model/_coordinate_descent.py:681: ConvergenceWarning: Objective did not converge. You might want to increase the number of iterations. Duality gap: 8.161800498725825, tolerance: 1.7622842702391401\n",
            "  model = cd_fast.enet_coordinate_descent_gram(\n",
            "/usr/local/lib/python3.12/dist-packages/sklearn/linear_model/_coordinate_descent.py:681: ConvergenceWarning: Objective did not converge. You might want to increase the number of iterations. Duality gap: 29.577945633793206, tolerance: 1.7622842702391401\n",
            "  model = cd_fast.enet_coordinate_descent_gram(\n",
            "/usr/local/lib/python3.12/dist-packages/sklearn/linear_model/_coordinate_descent.py:681: ConvergenceWarning: Objective did not converge. You might want to increase the number of iterations. Duality gap: 266.04346251494553, tolerance: 1.7622842702391401\n",
            "  model = cd_fast.enet_coordinate_descent_gram(\n",
            "/usr/local/lib/python3.12/dist-packages/sklearn/linear_model/_coordinate_descent.py:681: ConvergenceWarning: Objective did not converge. You might want to increase the number of iterations. Duality gap: 484.51981604875164, tolerance: 1.7622842702391401\n",
            "  model = cd_fast.enet_coordinate_descent_gram(\n",
            "/usr/local/lib/python3.12/dist-packages/sklearn/linear_model/_coordinate_descent.py:681: ConvergenceWarning: Objective did not converge. You might want to increase the number of iterations. Duality gap: 639.0075837712593, tolerance: 1.7622842702391401\n",
            "  model = cd_fast.enet_coordinate_descent_gram(\n",
            "/usr/local/lib/python3.12/dist-packages/sklearn/linear_model/_coordinate_descent.py:681: ConvergenceWarning: Objective did not converge. You might want to increase the number of iterations. Duality gap: 37.774384295198615, tolerance: 1.7800237455531773\n",
            "  model = cd_fast.enet_coordinate_descent_gram(\n",
            "/usr/local/lib/python3.12/dist-packages/sklearn/linear_model/_coordinate_descent.py:681: ConvergenceWarning: Objective did not converge. You might want to increase the number of iterations. Duality gap: 175.96742819950305, tolerance: 1.7800237455531773\n",
            "  model = cd_fast.enet_coordinate_descent_gram(\n",
            "/usr/local/lib/python3.12/dist-packages/sklearn/linear_model/_coordinate_descent.py:681: ConvergenceWarning: Objective did not converge. You might want to increase the number of iterations. Duality gap: 302.2247311074598, tolerance: 1.7800237455531773\n",
            "  model = cd_fast.enet_coordinate_descent_gram(\n",
            "/usr/local/lib/python3.12/dist-packages/sklearn/linear_model/_coordinate_descent.py:681: ConvergenceWarning: Objective did not converge. You might want to increase the number of iterations. Duality gap: 436.3587328562203, tolerance: 1.7800237455531773\n",
            "  model = cd_fast.enet_coordinate_descent_gram(\n",
            "/usr/local/lib/python3.12/dist-packages/sklearn/linear_model/_coordinate_descent.py:681: ConvergenceWarning: Objective did not converge. You might want to increase the number of iterations. Duality gap: 573.236004342969, tolerance: 1.7800237455531773\n",
            "  model = cd_fast.enet_coordinate_descent_gram(\n",
            "/usr/local/lib/python3.12/dist-packages/sklearn/linear_model/_coordinate_descent.py:681: ConvergenceWarning: Objective did not converge. You might want to increase the number of iterations. Duality gap: 680.4550560601047, tolerance: 1.7800237455531773\n",
            "  model = cd_fast.enet_coordinate_descent_gram(\n"
          ]
        },
        {
          "output_type": "stream",
          "name": "stdout",
          "text": [
            "Ridge (Poly) → MSE: 0.44740447954867957 R2: 0.658576454391149\n",
            "Lasso (Poly) → MSE: 0.5705356297211007 R2: 0.5646125452475219\n"
          ]
        },
        {
          "output_type": "stream",
          "name": "stderr",
          "text": [
            "/usr/local/lib/python3.12/dist-packages/sklearn/linear_model/_coordinate_descent.py:695: ConvergenceWarning: Objective did not converge. You might want to increase the number of iterations, check the scale of the features or consider increasing regularisation. Duality gap: 3.382e+01, tolerance: 2.207e+00\n",
            "  model = cd_fast.enet_coordinate_descent(\n"
          ]
        }
      ]
    },
    {
      "cell_type": "markdown",
      "source": [
        "INTERPRETACIÓN:\n",
        "\n",
        "Al ampliar el espacio de características de 8, 44 variables con polinomios de grado 2:\n",
        "\n",
        "Ridge mejora el desempeño (MSE ≈ 0.447, R² ≈ 0.659), lo que muestra que maneja bien la multicolinealidad introducida por las interacciones polinomiales.\n",
        "\n",
        "Lasso empeora ligeramente (MSE ≈ 0.571, R² ≈ 0.565) porque anula demasiadas variables al aplicar penalización L1 en un espacio muy grande.\n",
        "\n",
        "Entonces concluimos que Ridge es más robusto cuando se agregan muchas variables correlacionadas, mientras que Lasso es más útil en escenarios donde buscamos selección de pocas variables clave."
      ],
      "metadata": {
        "id": "i4vIliHG5Xqo"
      }
    },
    {
      "cell_type": "markdown",
      "source": [
        "D. Bike Sharing Dataset"
      ],
      "metadata": {
        "id": "UqO5hu5sXdB6"
      }
    },
    {
      "cell_type": "markdown",
      "source": [
        "1. Conjunto de datos alternativo"
      ],
      "metadata": {
        "id": "6okHPL4mYIxF"
      }
    },
    {
      "cell_type": "code",
      "source": [
        "# 1. Subir archivo desde tu computadora a Colab\n",
        "from google.colab import files\n",
        "import pandas as pd\n",
        "\n",
        "# hour.csv de tu carpeta Descargas\n",
        "uploaded = files.upload()\n",
        "\n",
        "# Ahora ya puedes leerlo\n",
        "df = pd.read_csv(\"hour.csv\")\n",
        "\n",
        "print(\"Dimensiones:\", df.shape)\n",
        "print(\"Columnas:\", df.columns.tolist())\n",
        "df.head()\n"
      ],
      "metadata": {
        "colab": {
          "base_uri": "https://localhost:8080/",
          "height": 403
        },
        "id": "w6rb_U3OX-_d",
        "outputId": "81cee1db-eaaf-42e0-db37-a0704270d1d8"
      },
      "execution_count": 47,
      "outputs": [
        {
          "output_type": "display_data",
          "data": {
            "text/plain": [
              "<IPython.core.display.HTML object>"
            ],
            "text/html": [
              "\n",
              "     <input type=\"file\" id=\"files-3d13e504-5e1e-4784-8c1b-ce5c04923197\" name=\"files[]\" multiple disabled\n",
              "        style=\"border:none\" />\n",
              "     <output id=\"result-3d13e504-5e1e-4784-8c1b-ce5c04923197\">\n",
              "      Upload widget is only available when the cell has been executed in the\n",
              "      current browser session. Please rerun this cell to enable.\n",
              "      </output>\n",
              "      <script>// Copyright 2017 Google LLC\n",
              "//\n",
              "// Licensed under the Apache License, Version 2.0 (the \"License\");\n",
              "// you may not use this file except in compliance with the License.\n",
              "// You may obtain a copy of the License at\n",
              "//\n",
              "//      http://www.apache.org/licenses/LICENSE-2.0\n",
              "//\n",
              "// Unless required by applicable law or agreed to in writing, software\n",
              "// distributed under the License is distributed on an \"AS IS\" BASIS,\n",
              "// WITHOUT WARRANTIES OR CONDITIONS OF ANY KIND, either express or implied.\n",
              "// See the License for the specific language governing permissions and\n",
              "// limitations under the License.\n",
              "\n",
              "/**\n",
              " * @fileoverview Helpers for google.colab Python module.\n",
              " */\n",
              "(function(scope) {\n",
              "function span(text, styleAttributes = {}) {\n",
              "  const element = document.createElement('span');\n",
              "  element.textContent = text;\n",
              "  for (const key of Object.keys(styleAttributes)) {\n",
              "    element.style[key] = styleAttributes[key];\n",
              "  }\n",
              "  return element;\n",
              "}\n",
              "\n",
              "// Max number of bytes which will be uploaded at a time.\n",
              "const MAX_PAYLOAD_SIZE = 100 * 1024;\n",
              "\n",
              "function _uploadFiles(inputId, outputId) {\n",
              "  const steps = uploadFilesStep(inputId, outputId);\n",
              "  const outputElement = document.getElementById(outputId);\n",
              "  // Cache steps on the outputElement to make it available for the next call\n",
              "  // to uploadFilesContinue from Python.\n",
              "  outputElement.steps = steps;\n",
              "\n",
              "  return _uploadFilesContinue(outputId);\n",
              "}\n",
              "\n",
              "// This is roughly an async generator (not supported in the browser yet),\n",
              "// where there are multiple asynchronous steps and the Python side is going\n",
              "// to poll for completion of each step.\n",
              "// This uses a Promise to block the python side on completion of each step,\n",
              "// then passes the result of the previous step as the input to the next step.\n",
              "function _uploadFilesContinue(outputId) {\n",
              "  const outputElement = document.getElementById(outputId);\n",
              "  const steps = outputElement.steps;\n",
              "\n",
              "  const next = steps.next(outputElement.lastPromiseValue);\n",
              "  return Promise.resolve(next.value.promise).then((value) => {\n",
              "    // Cache the last promise value to make it available to the next\n",
              "    // step of the generator.\n",
              "    outputElement.lastPromiseValue = value;\n",
              "    return next.value.response;\n",
              "  });\n",
              "}\n",
              "\n",
              "/**\n",
              " * Generator function which is called between each async step of the upload\n",
              " * process.\n",
              " * @param {string} inputId Element ID of the input file picker element.\n",
              " * @param {string} outputId Element ID of the output display.\n",
              " * @return {!Iterable<!Object>} Iterable of next steps.\n",
              " */\n",
              "function* uploadFilesStep(inputId, outputId) {\n",
              "  const inputElement = document.getElementById(inputId);\n",
              "  inputElement.disabled = false;\n",
              "\n",
              "  const outputElement = document.getElementById(outputId);\n",
              "  outputElement.innerHTML = '';\n",
              "\n",
              "  const pickedPromise = new Promise((resolve) => {\n",
              "    inputElement.addEventListener('change', (e) => {\n",
              "      resolve(e.target.files);\n",
              "    });\n",
              "  });\n",
              "\n",
              "  const cancel = document.createElement('button');\n",
              "  inputElement.parentElement.appendChild(cancel);\n",
              "  cancel.textContent = 'Cancel upload';\n",
              "  const cancelPromise = new Promise((resolve) => {\n",
              "    cancel.onclick = () => {\n",
              "      resolve(null);\n",
              "    };\n",
              "  });\n",
              "\n",
              "  // Wait for the user to pick the files.\n",
              "  const files = yield {\n",
              "    promise: Promise.race([pickedPromise, cancelPromise]),\n",
              "    response: {\n",
              "      action: 'starting',\n",
              "    }\n",
              "  };\n",
              "\n",
              "  cancel.remove();\n",
              "\n",
              "  // Disable the input element since further picks are not allowed.\n",
              "  inputElement.disabled = true;\n",
              "\n",
              "  if (!files) {\n",
              "    return {\n",
              "      response: {\n",
              "        action: 'complete',\n",
              "      }\n",
              "    };\n",
              "  }\n",
              "\n",
              "  for (const file of files) {\n",
              "    const li = document.createElement('li');\n",
              "    li.append(span(file.name, {fontWeight: 'bold'}));\n",
              "    li.append(span(\n",
              "        `(${file.type || 'n/a'}) - ${file.size} bytes, ` +\n",
              "        `last modified: ${\n",
              "            file.lastModifiedDate ? file.lastModifiedDate.toLocaleDateString() :\n",
              "                                    'n/a'} - `));\n",
              "    const percent = span('0% done');\n",
              "    li.appendChild(percent);\n",
              "\n",
              "    outputElement.appendChild(li);\n",
              "\n",
              "    const fileDataPromise = new Promise((resolve) => {\n",
              "      const reader = new FileReader();\n",
              "      reader.onload = (e) => {\n",
              "        resolve(e.target.result);\n",
              "      };\n",
              "      reader.readAsArrayBuffer(file);\n",
              "    });\n",
              "    // Wait for the data to be ready.\n",
              "    let fileData = yield {\n",
              "      promise: fileDataPromise,\n",
              "      response: {\n",
              "        action: 'continue',\n",
              "      }\n",
              "    };\n",
              "\n",
              "    // Use a chunked sending to avoid message size limits. See b/62115660.\n",
              "    let position = 0;\n",
              "    do {\n",
              "      const length = Math.min(fileData.byteLength - position, MAX_PAYLOAD_SIZE);\n",
              "      const chunk = new Uint8Array(fileData, position, length);\n",
              "      position += length;\n",
              "\n",
              "      const base64 = btoa(String.fromCharCode.apply(null, chunk));\n",
              "      yield {\n",
              "        response: {\n",
              "          action: 'append',\n",
              "          file: file.name,\n",
              "          data: base64,\n",
              "        },\n",
              "      };\n",
              "\n",
              "      let percentDone = fileData.byteLength === 0 ?\n",
              "          100 :\n",
              "          Math.round((position / fileData.byteLength) * 100);\n",
              "      percent.textContent = `${percentDone}% done`;\n",
              "\n",
              "    } while (position < fileData.byteLength);\n",
              "  }\n",
              "\n",
              "  // All done.\n",
              "  yield {\n",
              "    response: {\n",
              "      action: 'complete',\n",
              "    }\n",
              "  };\n",
              "}\n",
              "\n",
              "scope.google = scope.google || {};\n",
              "scope.google.colab = scope.google.colab || {};\n",
              "scope.google.colab._files = {\n",
              "  _uploadFiles,\n",
              "  _uploadFilesContinue,\n",
              "};\n",
              "})(self);\n",
              "</script> "
            ]
          },
          "metadata": {}
        },
        {
          "output_type": "stream",
          "name": "stdout",
          "text": [
            "Saving hour.csv to hour (1).csv\n",
            "Dimensiones: (17379, 17)\n",
            "Columnas: ['instant', 'dteday', 'season', 'yr', 'mnth', 'hr', 'holiday', 'weekday', 'workingday', 'weathersit', 'temp', 'atemp', 'hum', 'windspeed', 'casual', 'registered', 'cnt']\n"
          ]
        },
        {
          "output_type": "execute_result",
          "data": {
            "text/plain": [
              "   instant      dteday  season  yr  mnth  hr  holiday  weekday  workingday  \\\n",
              "0        1  2011-01-01       1   0     1   0        0        6           0   \n",
              "1        2  2011-01-01       1   0     1   1        0        6           0   \n",
              "2        3  2011-01-01       1   0     1   2        0        6           0   \n",
              "3        4  2011-01-01       1   0     1   3        0        6           0   \n",
              "4        5  2011-01-01       1   0     1   4        0        6           0   \n",
              "\n",
              "   weathersit  temp   atemp   hum  windspeed  casual  registered  cnt  \n",
              "0           1  0.24  0.2879  0.81        0.0       3          13   16  \n",
              "1           1  0.22  0.2727  0.80        0.0       8          32   40  \n",
              "2           1  0.22  0.2727  0.80        0.0       5          27   32  \n",
              "3           1  0.24  0.2879  0.75        0.0       3          10   13  \n",
              "4           1  0.24  0.2879  0.75        0.0       0           1    1  "
            ],
            "text/html": [
              "\n",
              "  <div id=\"df-515e0bb7-f865-413d-a6f1-5b928e93c363\" class=\"colab-df-container\">\n",
              "    <div>\n",
              "<style scoped>\n",
              "    .dataframe tbody tr th:only-of-type {\n",
              "        vertical-align: middle;\n",
              "    }\n",
              "\n",
              "    .dataframe tbody tr th {\n",
              "        vertical-align: top;\n",
              "    }\n",
              "\n",
              "    .dataframe thead th {\n",
              "        text-align: right;\n",
              "    }\n",
              "</style>\n",
              "<table border=\"1\" class=\"dataframe\">\n",
              "  <thead>\n",
              "    <tr style=\"text-align: right;\">\n",
              "      <th></th>\n",
              "      <th>instant</th>\n",
              "      <th>dteday</th>\n",
              "      <th>season</th>\n",
              "      <th>yr</th>\n",
              "      <th>mnth</th>\n",
              "      <th>hr</th>\n",
              "      <th>holiday</th>\n",
              "      <th>weekday</th>\n",
              "      <th>workingday</th>\n",
              "      <th>weathersit</th>\n",
              "      <th>temp</th>\n",
              "      <th>atemp</th>\n",
              "      <th>hum</th>\n",
              "      <th>windspeed</th>\n",
              "      <th>casual</th>\n",
              "      <th>registered</th>\n",
              "      <th>cnt</th>\n",
              "    </tr>\n",
              "  </thead>\n",
              "  <tbody>\n",
              "    <tr>\n",
              "      <th>0</th>\n",
              "      <td>1</td>\n",
              "      <td>2011-01-01</td>\n",
              "      <td>1</td>\n",
              "      <td>0</td>\n",
              "      <td>1</td>\n",
              "      <td>0</td>\n",
              "      <td>0</td>\n",
              "      <td>6</td>\n",
              "      <td>0</td>\n",
              "      <td>1</td>\n",
              "      <td>0.24</td>\n",
              "      <td>0.2879</td>\n",
              "      <td>0.81</td>\n",
              "      <td>0.0</td>\n",
              "      <td>3</td>\n",
              "      <td>13</td>\n",
              "      <td>16</td>\n",
              "    </tr>\n",
              "    <tr>\n",
              "      <th>1</th>\n",
              "      <td>2</td>\n",
              "      <td>2011-01-01</td>\n",
              "      <td>1</td>\n",
              "      <td>0</td>\n",
              "      <td>1</td>\n",
              "      <td>1</td>\n",
              "      <td>0</td>\n",
              "      <td>6</td>\n",
              "      <td>0</td>\n",
              "      <td>1</td>\n",
              "      <td>0.22</td>\n",
              "      <td>0.2727</td>\n",
              "      <td>0.80</td>\n",
              "      <td>0.0</td>\n",
              "      <td>8</td>\n",
              "      <td>32</td>\n",
              "      <td>40</td>\n",
              "    </tr>\n",
              "    <tr>\n",
              "      <th>2</th>\n",
              "      <td>3</td>\n",
              "      <td>2011-01-01</td>\n",
              "      <td>1</td>\n",
              "      <td>0</td>\n",
              "      <td>1</td>\n",
              "      <td>2</td>\n",
              "      <td>0</td>\n",
              "      <td>6</td>\n",
              "      <td>0</td>\n",
              "      <td>1</td>\n",
              "      <td>0.22</td>\n",
              "      <td>0.2727</td>\n",
              "      <td>0.80</td>\n",
              "      <td>0.0</td>\n",
              "      <td>5</td>\n",
              "      <td>27</td>\n",
              "      <td>32</td>\n",
              "    </tr>\n",
              "    <tr>\n",
              "      <th>3</th>\n",
              "      <td>4</td>\n",
              "      <td>2011-01-01</td>\n",
              "      <td>1</td>\n",
              "      <td>0</td>\n",
              "      <td>1</td>\n",
              "      <td>3</td>\n",
              "      <td>0</td>\n",
              "      <td>6</td>\n",
              "      <td>0</td>\n",
              "      <td>1</td>\n",
              "      <td>0.24</td>\n",
              "      <td>0.2879</td>\n",
              "      <td>0.75</td>\n",
              "      <td>0.0</td>\n",
              "      <td>3</td>\n",
              "      <td>10</td>\n",
              "      <td>13</td>\n",
              "    </tr>\n",
              "    <tr>\n",
              "      <th>4</th>\n",
              "      <td>5</td>\n",
              "      <td>2011-01-01</td>\n",
              "      <td>1</td>\n",
              "      <td>0</td>\n",
              "      <td>1</td>\n",
              "      <td>4</td>\n",
              "      <td>0</td>\n",
              "      <td>6</td>\n",
              "      <td>0</td>\n",
              "      <td>1</td>\n",
              "      <td>0.24</td>\n",
              "      <td>0.2879</td>\n",
              "      <td>0.75</td>\n",
              "      <td>0.0</td>\n",
              "      <td>0</td>\n",
              "      <td>1</td>\n",
              "      <td>1</td>\n",
              "    </tr>\n",
              "  </tbody>\n",
              "</table>\n",
              "</div>\n",
              "    <div class=\"colab-df-buttons\">\n",
              "\n",
              "  <div class=\"colab-df-container\">\n",
              "    <button class=\"colab-df-convert\" onclick=\"convertToInteractive('df-515e0bb7-f865-413d-a6f1-5b928e93c363')\"\n",
              "            title=\"Convert this dataframe to an interactive table.\"\n",
              "            style=\"display:none;\">\n",
              "\n",
              "  <svg xmlns=\"http://www.w3.org/2000/svg\" height=\"24px\" viewBox=\"0 -960 960 960\">\n",
              "    <path d=\"M120-120v-720h720v720H120Zm60-500h600v-160H180v160Zm220 220h160v-160H400v160Zm0 220h160v-160H400v160ZM180-400h160v-160H180v160Zm440 0h160v-160H620v160ZM180-180h160v-160H180v160Zm440 0h160v-160H620v160Z\"/>\n",
              "  </svg>\n",
              "    </button>\n",
              "\n",
              "  <style>\n",
              "    .colab-df-container {\n",
              "      display:flex;\n",
              "      gap: 12px;\n",
              "    }\n",
              "\n",
              "    .colab-df-convert {\n",
              "      background-color: #E8F0FE;\n",
              "      border: none;\n",
              "      border-radius: 50%;\n",
              "      cursor: pointer;\n",
              "      display: none;\n",
              "      fill: #1967D2;\n",
              "      height: 32px;\n",
              "      padding: 0 0 0 0;\n",
              "      width: 32px;\n",
              "    }\n",
              "\n",
              "    .colab-df-convert:hover {\n",
              "      background-color: #E2EBFA;\n",
              "      box-shadow: 0px 1px 2px rgba(60, 64, 67, 0.3), 0px 1px 3px 1px rgba(60, 64, 67, 0.15);\n",
              "      fill: #174EA6;\n",
              "    }\n",
              "\n",
              "    .colab-df-buttons div {\n",
              "      margin-bottom: 4px;\n",
              "    }\n",
              "\n",
              "    [theme=dark] .colab-df-convert {\n",
              "      background-color: #3B4455;\n",
              "      fill: #D2E3FC;\n",
              "    }\n",
              "\n",
              "    [theme=dark] .colab-df-convert:hover {\n",
              "      background-color: #434B5C;\n",
              "      box-shadow: 0px 1px 3px 1px rgba(0, 0, 0, 0.15);\n",
              "      filter: drop-shadow(0px 1px 2px rgba(0, 0, 0, 0.3));\n",
              "      fill: #FFFFFF;\n",
              "    }\n",
              "  </style>\n",
              "\n",
              "    <script>\n",
              "      const buttonEl =\n",
              "        document.querySelector('#df-515e0bb7-f865-413d-a6f1-5b928e93c363 button.colab-df-convert');\n",
              "      buttonEl.style.display =\n",
              "        google.colab.kernel.accessAllowed ? 'block' : 'none';\n",
              "\n",
              "      async function convertToInteractive(key) {\n",
              "        const element = document.querySelector('#df-515e0bb7-f865-413d-a6f1-5b928e93c363');\n",
              "        const dataTable =\n",
              "          await google.colab.kernel.invokeFunction('convertToInteractive',\n",
              "                                                    [key], {});\n",
              "        if (!dataTable) return;\n",
              "\n",
              "        const docLinkHtml = 'Like what you see? Visit the ' +\n",
              "          '<a target=\"_blank\" href=https://colab.research.google.com/notebooks/data_table.ipynb>data table notebook</a>'\n",
              "          + ' to learn more about interactive tables.';\n",
              "        element.innerHTML = '';\n",
              "        dataTable['output_type'] = 'display_data';\n",
              "        await google.colab.output.renderOutput(dataTable, element);\n",
              "        const docLink = document.createElement('div');\n",
              "        docLink.innerHTML = docLinkHtml;\n",
              "        element.appendChild(docLink);\n",
              "      }\n",
              "    </script>\n",
              "  </div>\n",
              "\n",
              "\n",
              "    <div id=\"df-7ccf34d6-3a3c-4117-ad21-01a84768a8f5\">\n",
              "      <button class=\"colab-df-quickchart\" onclick=\"quickchart('df-7ccf34d6-3a3c-4117-ad21-01a84768a8f5')\"\n",
              "                title=\"Suggest charts\"\n",
              "                style=\"display:none;\">\n",
              "\n",
              "<svg xmlns=\"http://www.w3.org/2000/svg\" height=\"24px\"viewBox=\"0 0 24 24\"\n",
              "     width=\"24px\">\n",
              "    <g>\n",
              "        <path d=\"M19 3H5c-1.1 0-2 .9-2 2v14c0 1.1.9 2 2 2h14c1.1 0 2-.9 2-2V5c0-1.1-.9-2-2-2zM9 17H7v-7h2v7zm4 0h-2V7h2v10zm4 0h-2v-4h2v4z\"/>\n",
              "    </g>\n",
              "</svg>\n",
              "      </button>\n",
              "\n",
              "<style>\n",
              "  .colab-df-quickchart {\n",
              "      --bg-color: #E8F0FE;\n",
              "      --fill-color: #1967D2;\n",
              "      --hover-bg-color: #E2EBFA;\n",
              "      --hover-fill-color: #174EA6;\n",
              "      --disabled-fill-color: #AAA;\n",
              "      --disabled-bg-color: #DDD;\n",
              "  }\n",
              "\n",
              "  [theme=dark] .colab-df-quickchart {\n",
              "      --bg-color: #3B4455;\n",
              "      --fill-color: #D2E3FC;\n",
              "      --hover-bg-color: #434B5C;\n",
              "      --hover-fill-color: #FFFFFF;\n",
              "      --disabled-bg-color: #3B4455;\n",
              "      --disabled-fill-color: #666;\n",
              "  }\n",
              "\n",
              "  .colab-df-quickchart {\n",
              "    background-color: var(--bg-color);\n",
              "    border: none;\n",
              "    border-radius: 50%;\n",
              "    cursor: pointer;\n",
              "    display: none;\n",
              "    fill: var(--fill-color);\n",
              "    height: 32px;\n",
              "    padding: 0;\n",
              "    width: 32px;\n",
              "  }\n",
              "\n",
              "  .colab-df-quickchart:hover {\n",
              "    background-color: var(--hover-bg-color);\n",
              "    box-shadow: 0 1px 2px rgba(60, 64, 67, 0.3), 0 1px 3px 1px rgba(60, 64, 67, 0.15);\n",
              "    fill: var(--button-hover-fill-color);\n",
              "  }\n",
              "\n",
              "  .colab-df-quickchart-complete:disabled,\n",
              "  .colab-df-quickchart-complete:disabled:hover {\n",
              "    background-color: var(--disabled-bg-color);\n",
              "    fill: var(--disabled-fill-color);\n",
              "    box-shadow: none;\n",
              "  }\n",
              "\n",
              "  .colab-df-spinner {\n",
              "    border: 2px solid var(--fill-color);\n",
              "    border-color: transparent;\n",
              "    border-bottom-color: var(--fill-color);\n",
              "    animation:\n",
              "      spin 1s steps(1) infinite;\n",
              "  }\n",
              "\n",
              "  @keyframes spin {\n",
              "    0% {\n",
              "      border-color: transparent;\n",
              "      border-bottom-color: var(--fill-color);\n",
              "      border-left-color: var(--fill-color);\n",
              "    }\n",
              "    20% {\n",
              "      border-color: transparent;\n",
              "      border-left-color: var(--fill-color);\n",
              "      border-top-color: var(--fill-color);\n",
              "    }\n",
              "    30% {\n",
              "      border-color: transparent;\n",
              "      border-left-color: var(--fill-color);\n",
              "      border-top-color: var(--fill-color);\n",
              "      border-right-color: var(--fill-color);\n",
              "    }\n",
              "    40% {\n",
              "      border-color: transparent;\n",
              "      border-right-color: var(--fill-color);\n",
              "      border-top-color: var(--fill-color);\n",
              "    }\n",
              "    60% {\n",
              "      border-color: transparent;\n",
              "      border-right-color: var(--fill-color);\n",
              "    }\n",
              "    80% {\n",
              "      border-color: transparent;\n",
              "      border-right-color: var(--fill-color);\n",
              "      border-bottom-color: var(--fill-color);\n",
              "    }\n",
              "    90% {\n",
              "      border-color: transparent;\n",
              "      border-bottom-color: var(--fill-color);\n",
              "    }\n",
              "  }\n",
              "</style>\n",
              "\n",
              "      <script>\n",
              "        async function quickchart(key) {\n",
              "          const quickchartButtonEl =\n",
              "            document.querySelector('#' + key + ' button');\n",
              "          quickchartButtonEl.disabled = true;  // To prevent multiple clicks.\n",
              "          quickchartButtonEl.classList.add('colab-df-spinner');\n",
              "          try {\n",
              "            const charts = await google.colab.kernel.invokeFunction(\n",
              "                'suggestCharts', [key], {});\n",
              "          } catch (error) {\n",
              "            console.error('Error during call to suggestCharts:', error);\n",
              "          }\n",
              "          quickchartButtonEl.classList.remove('colab-df-spinner');\n",
              "          quickchartButtonEl.classList.add('colab-df-quickchart-complete');\n",
              "        }\n",
              "        (() => {\n",
              "          let quickchartButtonEl =\n",
              "            document.querySelector('#df-7ccf34d6-3a3c-4117-ad21-01a84768a8f5 button');\n",
              "          quickchartButtonEl.style.display =\n",
              "            google.colab.kernel.accessAllowed ? 'block' : 'none';\n",
              "        })();\n",
              "      </script>\n",
              "    </div>\n",
              "\n",
              "    </div>\n",
              "  </div>\n"
            ],
            "application/vnd.google.colaboratory.intrinsic+json": {
              "type": "dataframe",
              "variable_name": "df",
              "summary": "{\n  \"name\": \"df\",\n  \"rows\": 17379,\n  \"fields\": [\n    {\n      \"column\": \"instant\",\n      \"properties\": {\n        \"dtype\": \"number\",\n        \"std\": 5017,\n        \"min\": 1,\n        \"max\": 17379,\n        \"num_unique_values\": 17379,\n        \"samples\": [\n          12831,\n          8689,\n          7092\n        ],\n        \"semantic_type\": \"\",\n        \"description\": \"\"\n      }\n    },\n    {\n      \"column\": \"dteday\",\n      \"properties\": {\n        \"dtype\": \"object\",\n        \"num_unique_values\": 731,\n        \"samples\": [\n          \"2012-12-04\",\n          \"2011-02-03\",\n          \"2011-10-28\"\n        ],\n        \"semantic_type\": \"\",\n        \"description\": \"\"\n      }\n    },\n    {\n      \"column\": \"season\",\n      \"properties\": {\n        \"dtype\": \"number\",\n        \"std\": 1,\n        \"min\": 1,\n        \"max\": 4,\n        \"num_unique_values\": 4,\n        \"samples\": [\n          2,\n          4,\n          1\n        ],\n        \"semantic_type\": \"\",\n        \"description\": \"\"\n      }\n    },\n    {\n      \"column\": \"yr\",\n      \"properties\": {\n        \"dtype\": \"number\",\n        \"std\": 0,\n        \"min\": 0,\n        \"max\": 1,\n        \"num_unique_values\": 2,\n        \"samples\": [\n          1,\n          0\n        ],\n        \"semantic_type\": \"\",\n        \"description\": \"\"\n      }\n    },\n    {\n      \"column\": \"mnth\",\n      \"properties\": {\n        \"dtype\": \"number\",\n        \"std\": 3,\n        \"min\": 1,\n        \"max\": 12,\n        \"num_unique_values\": 12,\n        \"samples\": [\n          11,\n          10\n        ],\n        \"semantic_type\": \"\",\n        \"description\": \"\"\n      }\n    },\n    {\n      \"column\": \"hr\",\n      \"properties\": {\n        \"dtype\": \"number\",\n        \"std\": 6,\n        \"min\": 0,\n        \"max\": 23,\n        \"num_unique_values\": 24,\n        \"samples\": [\n          8,\n          16\n        ],\n        \"semantic_type\": \"\",\n        \"description\": \"\"\n      }\n    },\n    {\n      \"column\": \"holiday\",\n      \"properties\": {\n        \"dtype\": \"number\",\n        \"std\": 0,\n        \"min\": 0,\n        \"max\": 1,\n        \"num_unique_values\": 2,\n        \"samples\": [\n          1,\n          0\n        ],\n        \"semantic_type\": \"\",\n        \"description\": \"\"\n      }\n    },\n    {\n      \"column\": \"weekday\",\n      \"properties\": {\n        \"dtype\": \"number\",\n        \"std\": 2,\n        \"min\": 0,\n        \"max\": 6,\n        \"num_unique_values\": 7,\n        \"samples\": [\n          6,\n          0\n        ],\n        \"semantic_type\": \"\",\n        \"description\": \"\"\n      }\n    },\n    {\n      \"column\": \"workingday\",\n      \"properties\": {\n        \"dtype\": \"number\",\n        \"std\": 0,\n        \"min\": 0,\n        \"max\": 1,\n        \"num_unique_values\": 2,\n        \"samples\": [\n          1,\n          0\n        ],\n        \"semantic_type\": \"\",\n        \"description\": \"\"\n      }\n    },\n    {\n      \"column\": \"weathersit\",\n      \"properties\": {\n        \"dtype\": \"number\",\n        \"std\": 0,\n        \"min\": 1,\n        \"max\": 4,\n        \"num_unique_values\": 4,\n        \"samples\": [\n          2,\n          4\n        ],\n        \"semantic_type\": \"\",\n        \"description\": \"\"\n      }\n    },\n    {\n      \"column\": \"temp\",\n      \"properties\": {\n        \"dtype\": \"number\",\n        \"std\": 0.19255612124972407,\n        \"min\": 0.02,\n        \"max\": 1.0,\n        \"num_unique_values\": 50,\n        \"samples\": [\n          0.16,\n          0.82\n        ],\n        \"semantic_type\": \"\",\n        \"description\": \"\"\n      }\n    },\n    {\n      \"column\": \"atemp\",\n      \"properties\": {\n        \"dtype\": \"number\",\n        \"std\": 0.17185021563536587,\n        \"min\": 0.0,\n        \"max\": 1.0,\n        \"num_unique_values\": 65,\n        \"samples\": [\n          0.7879,\n          0.9242\n        ],\n        \"semantic_type\": \"\",\n        \"description\": \"\"\n      }\n    },\n    {\n      \"column\": \"hum\",\n      \"properties\": {\n        \"dtype\": \"number\",\n        \"std\": 0.1929298340629125,\n        \"min\": 0.0,\n        \"max\": 1.0,\n        \"num_unique_values\": 89,\n        \"samples\": [\n          0.29,\n          0.61\n        ],\n        \"semantic_type\": \"\",\n        \"description\": \"\"\n      }\n    },\n    {\n      \"column\": \"windspeed\",\n      \"properties\": {\n        \"dtype\": \"number\",\n        \"std\": 0.12234022857279413,\n        \"min\": 0.0,\n        \"max\": 0.8507,\n        \"num_unique_values\": 30,\n        \"samples\": [\n          0.8507,\n          0.4925\n        ],\n        \"semantic_type\": \"\",\n        \"description\": \"\"\n      }\n    },\n    {\n      \"column\": \"casual\",\n      \"properties\": {\n        \"dtype\": \"number\",\n        \"std\": 49,\n        \"min\": 0,\n        \"max\": 367,\n        \"num_unique_values\": 322,\n        \"samples\": [\n          201,\n          171\n        ],\n        \"semantic_type\": \"\",\n        \"description\": \"\"\n      }\n    },\n    {\n      \"column\": \"registered\",\n      \"properties\": {\n        \"dtype\": \"number\",\n        \"std\": 151,\n        \"min\": 0,\n        \"max\": 886,\n        \"num_unique_values\": 776,\n        \"samples\": [\n          342,\n          744\n        ],\n        \"semantic_type\": \"\",\n        \"description\": \"\"\n      }\n    },\n    {\n      \"column\": \"cnt\",\n      \"properties\": {\n        \"dtype\": \"number\",\n        \"std\": 181,\n        \"min\": 1,\n        \"max\": 977,\n        \"num_unique_values\": 869,\n        \"samples\": [\n          594,\n          46\n        ],\n        \"semantic_type\": \"\",\n        \"description\": \"\"\n      }\n    }\n  ]\n}"
            }
          },
          "metadata": {},
          "execution_count": 47
        }
      ]
    },
    {
      "cell_type": "markdown",
      "source": [
        "1.1 Variable objetivo y predictoras"
      ],
      "metadata": {
        "id": "UrjLfOV8YNMb"
      }
    },
    {
      "cell_type": "code",
      "source": [
        "# Variable objetivo (y): cnt = número de alquileres\n",
        "y = df[\"cnt\"]\n",
        "\n",
        "# Variables predictoras: quitamos columnas no útiles (ID, fecha, cnt descompuesto)\n",
        "X = df.drop(columns=[\"instant\", \"dteday\", \"cnt\", \"casual\", \"registered\"])\n",
        "\n",
        "print(\"Variables predictoras:\", X.columns.tolist())\n",
        "print(\"Variable objetivo: cnt\")"
      ],
      "metadata": {
        "colab": {
          "base_uri": "https://localhost:8080/"
        },
        "id": "MQo1t3xqYPnH",
        "outputId": "2b66fff2-ba84-4c92-bd0d-6288c232c0d1"
      },
      "execution_count": 36,
      "outputs": [
        {
          "output_type": "stream",
          "name": "stdout",
          "text": [
            "Variables predictoras: ['season', 'yr', 'mnth', 'hr', 'holiday', 'weekday', 'workingday', 'weathersit', 'temp', 'atemp', 'hum', 'windspeed']\n",
            "Variable objetivo: cnt\n"
          ]
        }
      ]
    },
    {
      "cell_type": "markdown",
      "source": [
        "1.2 División en train/test"
      ],
      "metadata": {
        "id": "d5c2wN6LYRtI"
      }
    },
    {
      "cell_type": "code",
      "source": [
        "from sklearn.model_selection import train_test_split\n",
        "\n",
        "X_train, X_test, y_train, y_test = train_test_split(\n",
        "    X, y, test_size=0.2, random_state=42\n",
        ")\n",
        "\n",
        "print(\"Tamaño train:\", X_train.shape)\n",
        "print(\"Tamaño test:\", X_test.shape)\n"
      ],
      "metadata": {
        "colab": {
          "base_uri": "https://localhost:8080/"
        },
        "id": "3z0q7R-eYUPo",
        "outputId": "c8615714-2988-475e-d38d-49f8d5a5f3b5"
      },
      "execution_count": 37,
      "outputs": [
        {
          "output_type": "stream",
          "name": "stdout",
          "text": [
            "Tamaño train: (13903, 12)\n",
            "Tamaño test: (3476, 12)\n"
          ]
        }
      ]
    },
    {
      "cell_type": "markdown",
      "source": [
        "INTERPRETACIÓN:\n",
        "Se definió la variable objetivo cnt, que representa el número total de alquileres de bicicletas. Para predecirla, se utilizaron variables relacionadas con el tiempo (estación, mes, hora, día de la semana) y las condiciones externas (clima, temperatura, humedad, viento). Se descartaron variables redundantes como identificadores y la división de cnt en usuarios registrados/casuales. Finalmente, el conjunto de datos se dividió en entrenamiento (80%) y prueba (20%) para evaluar los modelos de forma adecuada."
      ],
      "metadata": {
        "id": "oPLvyBRLxZs4"
      }
    },
    {
      "cell_type": "markdown",
      "source": [
        "1.3 Escalamiento de características"
      ],
      "metadata": {
        "id": "lw-x92UnYVYf"
      }
    },
    {
      "cell_type": "code",
      "source": [
        "from sklearn.preprocessing import StandardScaler\n",
        "\n",
        "scaler = StandardScaler()\n",
        "X_train_scaled = scaler.fit_transform(X_train)\n",
        "X_test_scaled = scaler.transform(X_test)\n",
        "\n",
        "print(\"Media (aprox 0):\", X_train_scaled.mean())\n",
        "print(\"Varianza (aprox 1):\", X_train_scaled.var())\n"
      ],
      "metadata": {
        "colab": {
          "base_uri": "https://localhost:8080/"
        },
        "id": "i25OWTC6YYGk",
        "outputId": "09f0e8bb-dff1-4d26-d890-8044340ca2a2"
      },
      "execution_count": 39,
      "outputs": [
        {
          "output_type": "stream",
          "name": "stdout",
          "text": [
            "Media (aprox 0): 1.8462458699081937e-17\n",
            "Varianza (aprox 1): 0.9999999999999997\n"
          ]
        }
      ]
    },
    {
      "cell_type": "markdown",
      "source": [
        "INTERPRETACIÓN:\n",
        "El escalamiento pone todas las variables en la misma escala (media 0, varianza 1), lo que evita que unas dominen sobre otras y mejora el rendimiento de modelos como Ridge y Lasso."
      ],
      "metadata": {
        "id": "WkhkSUXtx2FY"
      }
    },
    {
      "cell_type": "markdown",
      "source": [
        "2. Closed-form OLS"
      ],
      "metadata": {
        "id": "d5BSlDGkYaWn"
      }
    },
    {
      "cell_type": "code",
      "source": [
        "import numpy as np\n",
        "from sklearn.metrics import mean_squared_error, r2_score\n",
        "\n",
        "# Agregamos columna de 1s para el intercepto\n",
        "X_train_bias = np.c_[np.ones((X_train_scaled.shape[0], 1)), X_train_scaled]\n",
        "X_test_bias = np.c_[np.ones((X_test_scaled.shape[0], 1)), X_test_scaled]\n",
        "\n",
        "# Fórmula OLS\n",
        "beta_hat = np.linalg.inv(X_train_bias.T @ X_train_bias) @ (X_train_bias.T @ y_train)\n",
        "\n",
        "# Separar intercepto y coeficientes\n",
        "intercept_ols = beta_hat[0]\n",
        "coef_ols = beta_hat[1:]\n",
        "\n",
        "print(\"Intercepto OLS:\", intercept_ols)\n",
        "print(\"Coeficientes OLS:\", coef_ols)\n",
        "\n",
        "# Predicciones y métricas\n",
        "y_pred_ols = X_test_bias @ beta_hat\n",
        "print(\"MSE OLS:\", mean_squared_error(y_test, y_pred_ols))\n",
        "print(\"R2 OLS:\", r2_score(y_test, y_pred_ols))\n"
      ],
      "metadata": {
        "colab": {
          "base_uri": "https://localhost:8080/"
        },
        "id": "bNTWADNDYbD8",
        "outputId": "bfcd21c9-7e8e-4cd2-90c3-9654c449d874"
      },
      "execution_count": 40,
      "outputs": [
        {
          "output_type": "stream",
          "name": "stdout",
          "text": [
            "Intercepto OLS: 190.57706969718765\n",
            "Coeficientes OLS: [ 22.70884768  41.42208942   0.40963385  52.96072612  -4.02674857\n",
            "   3.57532773   1.8218643   -2.19318563  19.11729518  35.32069014\n",
            " -38.45628117   4.21779835]\n",
            "MSE OLS: 19379.828367651728\n",
            "R2 OLS: 0.3879811583139132\n"
          ]
        }
      ]
    },
    {
      "cell_type": "markdown",
      "source": [
        "INTERPRETACIÓN:\n",
        "\n",
        "Intercepto (190.58): cuando todas las variables están en cero, el modelo predice en promedio 190 alquileres de bicicletas.\n",
        "\n",
        "Coeficientes:\n",
        "\n",
        "Positivos: aumentan el número de alquileres.\n",
        "\n",
        "Negativos: reducen los alquileres.\n",
        "\n",
        "MSE (19379): el error medio es alto, lo que indica que el modelo aún falla bastante en las predicciones.\n",
        "\n",
        "R² (0.39): el modelo explica solo el 39% de la variabilidad de los alquileres, ajuste bajo."
      ],
      "metadata": {
        "id": "8AZQxy2oyFtS"
      }
    },
    {
      "cell_type": "markdown",
      "source": [
        "3. Gradiente Descendente"
      ],
      "metadata": {
        "id": "FgrFbfQrYcV9"
      }
    },
    {
      "cell_type": "code",
      "source": [
        "import matplotlib.pyplot as plt\n",
        "\n",
        "def gradient_descent(X, y, lr=0.01, n_iter=500):\n",
        "    m, n = X.shape\n",
        "    theta = np.zeros(n)\n",
        "    costs = []\n",
        "    for i in range(n_iter):\n",
        "        gradients = -2/m * X.T @ (y - X @ theta)\n",
        "        theta -= lr * gradients\n",
        "        cost = mean_squared_error(y, X @ theta)\n",
        "        costs.append(cost)\n",
        "    return theta, costs\n",
        "\n",
        "# Ejecutamos GD\n",
        "thetas_lr01, costs_lr01 = gradient_descent(X_train_bias, y_train, lr=0.01, n_iter=500)\n",
        "\n",
        "# Predicciones\n",
        "y_pred_gd = X_test_bias @ thetas_lr01\n",
        "print(\"MSE GD:\", mean_squared_error(y_test, y_pred_gd))\n",
        "print(\"R2 GD:\", r2_score(y_test, y_pred_gd))\n",
        "\n",
        "# Curva de costo\n",
        "plt.plot(costs_lr01)\n",
        "plt.title(\"Curva de costo - Gradiente Descendente\")\n",
        "plt.xlabel(\"Iteraciones\")\n",
        "plt.ylabel(\"MSE\")\n",
        "plt.show()\n"
      ],
      "metadata": {
        "colab": {
          "base_uri": "https://localhost:8080/",
          "height": 507
        },
        "id": "mPQjq8TxYeVS",
        "outputId": "34fd77cb-cfdf-4431-9558-d69e83de62ce"
      },
      "execution_count": 41,
      "outputs": [
        {
          "output_type": "stream",
          "name": "stdout",
          "text": [
            "MSE GD: 19388.574207949263\n",
            "R2 GD: 0.3877049629345256\n"
          ]
        },
        {
          "output_type": "display_data",
          "data": {
            "text/plain": [
              "<Figure size 640x480 with 1 Axes>"
            ],
            "image/png": "[encoded data removed]"
          },
          "metadata": {}
        }
      ]
    },
    {
      "cell_type": "markdown",
      "source": [
        "INTERPRETACIÓN:\n",
        "MSE y R²: los valores son prácticamente iguales a los obtenidos con OLS, esto confirma que el Gradiente Descendente llegó a la misma solución que el método cerrado.\n",
        "\n",
        "Curva de costo: muestra que el error (MSE) disminuye con las iteraciones y converge, el algoritmo está funcionando bien.\n",
        "\n",
        "Entonces GD es útil cuando los datos son muy grandes o con muchas variables, pero aquí se obtiene el mismo desempeño que con OLS."
      ],
      "metadata": {
        "id": "hecUrcS7y1ua"
      }
    },
    {
      "cell_type": "markdown",
      "source": [
        "4. LinearRegression de sklearn"
      ],
      "metadata": {
        "id": "C5AMNUcLYgVs"
      }
    },
    {
      "cell_type": "code",
      "source": [
        "from sklearn.linear_model import LinearRegression\n",
        "\n",
        "lr = LinearRegression()\n",
        "lr.fit(X_train_scaled, y_train)\n",
        "y_pred_lr = lr.predict(X_test_scaled)\n",
        "\n",
        "print(\"MSE LinearRegression:\", mean_squared_error(y_test, y_pred_lr))\n",
        "print(\"R2 LinearRegression:\", r2_score(y_test, y_pred_lr))\n"
      ],
      "metadata": {
        "colab": {
          "base_uri": "https://localhost:8080/"
        },
        "id": "q16tRik_YiEn",
        "outputId": "f2b31849-cb8a-489a-cefd-b02f89704634"
      },
      "execution_count": 42,
      "outputs": [
        {
          "output_type": "stream",
          "name": "stdout",
          "text": [
            "MSE LinearRegression: 19379.82836765172\n",
            "R2 LinearRegression: 0.38798115831391333\n"
          ]
        }
      ]
    },
    {
      "cell_type": "markdown",
      "source": [
        "INTERPRETACIÓN:\n",
        "Los valores de MSE y R² son idénticos a los obtenidos con OLS y GD.\n",
        "\n",
        "Esto confirma que la implementación de LinearRegression en sklearn llega al mismo resultado que nuestras versiones manuales.\n"
      ],
      "metadata": {
        "id": "v1ED4Wxgzv6Z"
      }
    },
    {
      "cell_type": "markdown",
      "source": [
        "5. Ridge y Lasso (Regularization Paths)"
      ],
      "metadata": {
        "id": "2wkrYymHYjQ3"
      }
    },
    {
      "cell_type": "code",
      "source": [
        "from sklearn.linear_model import Ridge, Lasso\n",
        "\n",
        "alphas = np.logspace(-3, 2, 50)\n",
        "ridge_coefs = []\n",
        "lasso_coefs = []\n",
        "\n",
        "for a in alphas:\n",
        "    ridge = Ridge(alpha=a)\n",
        "    ridge.fit(X_train_scaled, y_train)\n",
        "    ridge_coefs.append(ridge.coef_)\n",
        "\n",
        "    lasso = Lasso(alpha=a, max_iter=5000)\n",
        "    lasso.fit(X_train_scaled, y_train)\n",
        "    lasso_coefs.append(lasso.coef_)\n",
        "\n",
        "ridge_coefs = np.array(ridge_coefs)\n",
        "lasso_coefs = np.array(lasso_coefs)\n",
        "\n",
        "plt.figure(figsize=(14,6))\n",
        "plt.subplot(1,2,1)\n",
        "plt.plot(alphas, ridge_coefs)\n",
        "plt.xscale(\"log\")\n",
        "plt.title(\"Ridge - Caminos de regularización\")\n",
        "\n",
        "plt.subplot(1,2,2)\n",
        "plt.plot(alphas, lasso_coefs)\n",
        "plt.xscale(\"log\")\n",
        "plt.title(\"Lasso - Caminos de regularización\")\n",
        "\n",
        "plt.show()\n"
      ],
      "metadata": {
        "colab": {
          "base_uri": "https://localhost:8080/",
          "height": 570
        },
        "id": "FG2Owx_mYlm2",
        "outputId": "98a15126-85dc-450b-afb9-503396825350"
      },
      "execution_count": 43,
      "outputs": [
        {
          "output_type": "display_data",
          "data": {
            "text/plain": [
              "<Figure size 1400x600 with 2 Axes>"
            ],
            "image/png": "[encoded data removed]"
          },
          "metadata": {}
        }
      ]
    },
    {
      "cell_type": "markdown",
      "source": [
        "INTERPRETACIÓN:\n",
        "\n",
        "Ridge:\n",
        "Mantiene todas las variables en el modelo, pero penaliza su magnitud. Es útil cuando todas las variables aportan algo y no queremos descartar ninguna.\n",
        "\n",
        "Lasso:\n",
        "Hace selección de variables automática: elimina (pone en cero) las que menos ayudan a explicar el número de alquileres (cnt). Esto lo hace más fácil de interpretar, aunque puede perder algo de información."
      ],
      "metadata": {
        "id": "yVN1DFle0FlI"
      }
    },
    {
      "cell_type": "markdown",
      "source": [
        "6. k-Fold Cross Validation"
      ],
      "metadata": {
        "id": "p_7fByH_YoJO"
      }
    },
    {
      "cell_type": "code",
      "source": [
        "from sklearn.model_selection import KFold\n",
        "from sklearn.linear_model import RidgeCV, LassoCV\n",
        "\n",
        "kf = KFold(n_splits=5, shuffle=True, random_state=42)\n",
        "\n",
        "ridge_cv = RidgeCV(alphas=alphas, cv=kf)\n",
        "ridge_cv.fit(X_train_scaled, y_train)\n",
        "\n",
        "lasso_cv = LassoCV(alphas=alphas, cv=kf, max_iter=5000, random_state=42)\n",
        "lasso_cv.fit(X_train_scaled, y_train)\n",
        "\n",
        "print(\"Mejor alpha Ridge:\", ridge_cv.alpha_)\n",
        "print(\"Mejor alpha Lasso:\", lasso_cv.alpha_)\n",
        "\n",
        "y_pred_ridge = ridge_cv.predict(X_test_scaled)\n",
        "y_pred_lasso = lasso_cv.predict(X_test_scaled)\n",
        "\n",
        "print(\"Ridge -> MSE:\", mean_squared_error(y_test, y_pred_ridge), \"R2:\", r2_score(y_test, y_pred_ridge))\n",
        "print(\"Lasso -> MSE:\", mean_squared_error(y_test, y_pred_lasso), \"R2:\", r2_score(y_test, y_pred_lasso))\n"
      ],
      "metadata": {
        "colab": {
          "base_uri": "https://localhost:8080/"
        },
        "id": "o84CFtwBYqCc",
        "outputId": "761949c6-eab9-44be-9329-7eedba48ffad"
      },
      "execution_count": 44,
      "outputs": [
        {
          "output_type": "stream",
          "name": "stdout",
          "text": [
            "Mejor alpha Ridge: 100.0\n",
            "Mejor alpha Lasso: 0.22229964825261955\n",
            "Ridge -> MSE: 19381.07011651108 R2: 0.38794194363749046\n",
            "Lasso -> MSE: 19378.955836964094 R2: 0.38800871300689854\n"
          ]
        }
      ]
    },
    {
      "cell_type": "markdown",
      "source": [
        "INTERPRETACIÓN:\n",
        "\n",
        "Ridge mantiene todas las variables, pero con coeficientes más pequeños.\n",
        "\n",
        "Lasso reduce varios coeficientes a cero, hace selección de variables, lo cual puede simplificar el modelo.\n",
        "\n",
        "Entonces podriamos decir que ningún método predice mejor en este caso (empate técnico), pero Lasso es más útil si te interesa identificar qué variables son realmente relevantes para el número de alquileres (cnt)"
      ],
      "metadata": {
        "id": "ag1fzOKG0je1"
      }
    },
    {
      "cell_type": "markdown",
      "source": [
        "7. Polynomial Features"
      ],
      "metadata": {
        "id": "YYRlL6FiYrQL"
      }
    },
    {
      "cell_type": "code",
      "source": [
        "poly = PolynomialFeatures(degree=2, include_bias=False)\n",
        "X_train_poly = poly.fit_transform(X_train_scaled)\n",
        "X_test_poly = poly.transform(X_test_scaled)\n",
        "\n",
        "print(\"Dim original:\", X_train_scaled.shape[1])\n",
        "print(\"Dim con polinomios:\", X_train_poly.shape[1])\n",
        "\n",
        "ridge_poly = RidgeCV(alphas=alphas, cv=kf)\n",
        "ridge_poly.fit(X_train_poly, y_train)\n",
        "\n",
        "lasso_poly = LassoCV(alphas=alphas, cv=kf, max_iter=5000, random_state=42)\n",
        "lasso_poly.fit(X_train_poly, y_train)\n",
        "\n",
        "y_pred_ridge_poly = ridge_poly.predict(X_test_poly)\n",
        "y_pred_lasso_poly = lasso_poly.predict(X_test_poly)\n",
        "\n",
        "print(\"Ridge Poly -> MSE:\", mean_squared_error(y_test, y_pred_ridge_poly), \"R2:\", r2_score(y_test, y_pred_ridge_poly))\n",
        "print(\"Lasso Poly -> MSE:\", mean_squared_error(y_test, y_pred_lasso_poly), \"R2:\", r2_score(y_test, y_pred_lasso_poly))\n"
      ],
      "metadata": {
        "colab": {
          "base_uri": "https://localhost:8080/"
        },
        "id": "oMRn-RVpYtiR",
        "outputId": "81de33a8-6bfd-4b6b-cf3d-8b9c78067e06"
      },
      "execution_count": 45,
      "outputs": [
        {
          "output_type": "stream",
          "name": "stdout",
          "text": [
            "Dim original: 12\n",
            "Dim con polinomios: 90\n",
            "Ridge Poly -> MSE: 14506.722835117871 R2: 0.5418748020994084\n",
            "Lasso Poly -> MSE: 14514.696383169385 R2: 0.5416229958630456\n"
          ]
        }
      ]
    },
    {
      "cell_type": "markdown",
      "source": [
        "INTERPRETACIÓN:\n",
        "\n",
        "la complejidad polinómica mejoró bastante el ajuste, mostrando que las relaciones no lineales son importantes en los alquileres de bicicletas."
      ],
      "metadata": {
        "id": "bjHJ_HVX042I"
      }
    },
    {
      "cell_type": "markdown",
      "source": [
        "8. Efectos estacionales"
      ],
      "metadata": {
        "id": "LmDUDQmSYvS9"
      }
    },
    {
      "cell_type": "code",
      "source": [
        "# Promedio de alquileres por estación\n",
        "season_means = df.groupby(\"season\")[\"cnt\"].mean()\n",
        "print(\"Promedio de alquileres por season:\\n\", season_means)\n",
        "\n",
        "# Promedio por mes\n",
        "df.groupby(\"mnth\")[\"cnt\"].mean().plot(kind=\"bar\", figsize=(10,4))\n",
        "plt.title(\"Efectos estacionales: promedio de alquileres por mes\")\n",
        "plt.xlabel(\"Mes\")\n",
        "plt.ylabel(\"Alquileres promedio (cnt)\")\n",
        "plt.show()\n"
      ],
      "metadata": {
        "colab": {
          "base_uri": "https://localhost:8080/",
          "height": 448
        },
        "id": "ZxXVESKLYxqT",
        "outputId": "0e402601-79ea-411c-b463-5e431fa15db7"
      },
      "execution_count": 46,
      "outputs": [
        {
          "output_type": "stream",
          "name": "stdout",
          "text": [
            "Promedio de alquileres por season:\n",
            " season\n",
            "1    111.114569\n",
            "2    208.344069\n",
            "3    236.016237\n",
            "4    198.868856\n",
            "Name: cnt, dtype: float64\n"
          ]
        },
        {
          "output_type": "display_data",
          "data": {
            "text/plain": [
              "<Figure size 1000x400 with 1 Axes>"
            ],
            "image/png": "[encoded data removed]"
          },
          "metadata": {}
        }
      ]
    },
    {
      "cell_type": "markdown",
      "source": [
        "INTERPRETACIÓN:\n",
        "\n",
        "El alquiler de bicicletas tiene un patrón estacional fuerte: el clima y la época del año influyen directamente en la cantidad de usuarios."
      ],
      "metadata": {
        "id": "d5eviYgc1Gqm"
      }
    }
  ]
}